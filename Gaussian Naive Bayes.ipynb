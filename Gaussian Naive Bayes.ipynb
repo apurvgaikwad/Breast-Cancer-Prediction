{
 "cells": [
  {
   "cell_type": "code",
   "execution_count": 420,
   "metadata": {},
   "outputs": [],
   "source": [
    "#import libraries\n",
    "import pandas as pd\n",
    "import numpy as np\n",
    "import matplotlib.pyplot as plt\n",
    "%matplotlib inline\n",
    "import seaborn as sns\n",
    "from mlxtend.plotting import plot_decision_regions\n",
    "import matplotlib.pyplot as plt"
   ]
  },
  {
   "cell_type": "code",
   "execution_count": 421,
   "metadata": {},
   "outputs": [
    {
     "data": {
      "text/plain": [
       "(683, 11)"
      ]
     },
     "execution_count": 421,
     "metadata": {},
     "output_type": "execute_result"
    }
   ],
   "source": [
    "df = pd.read_csv(r\"C:\\Users\\apurv\\Desktop\\NTU_YEAR_4\\CZ4032\\Project\\Breast Cancer Prediction.csv\")\n",
    "df.head()\n",
    "df.shape"
   ]
  },
  {
   "cell_type": "code",
   "execution_count": 422,
   "metadata": {},
   "outputs": [
    {
     "data": {
      "text/plain": [
       "(675, 11)"
      ]
     },
     "execution_count": 422,
     "metadata": {},
     "output_type": "execute_result"
    }
   ],
   "source": [
    "# find identical data\n",
    "duplicate_bool = df.duplicated(keep='first')\n",
    "duplicate = df.loc[duplicate_bool == True]\n",
    "\n",
    "df = df[~df.isin(duplicate)].dropna()\n",
    "df.shape"
   ]
  },
  {
   "cell_type": "code",
   "execution_count": 423,
   "metadata": {},
   "outputs": [
    {
     "data": {
      "text/html": [
       "<div>\n",
       "<style scoped>\n",
       "    .dataframe tbody tr th:only-of-type {\n",
       "        vertical-align: middle;\n",
       "    }\n",
       "\n",
       "    .dataframe tbody tr th {\n",
       "        vertical-align: top;\n",
       "    }\n",
       "\n",
       "    .dataframe thead th {\n",
       "        text-align: right;\n",
       "    }\n",
       "</style>\n",
       "<table border=\"1\" class=\"dataframe\">\n",
       "  <thead>\n",
       "    <tr style=\"text-align: right;\">\n",
       "      <th></th>\n",
       "      <th>Clump Thickness</th>\n",
       "      <th>Uniformity of Cell Size</th>\n",
       "      <th>Uniformity of Cell Shape</th>\n",
       "      <th>Marginal Adhesion</th>\n",
       "      <th>Single Epithelial Cell Size</th>\n",
       "      <th>Bare Nuclei</th>\n",
       "      <th>Bland Chromatin</th>\n",
       "      <th>Normal Nucleoli</th>\n",
       "      <th>Mitoses</th>\n",
       "      <th>Class</th>\n",
       "    </tr>\n",
       "  </thead>\n",
       "  <tbody>\n",
       "    <tr>\n",
       "      <th>0</th>\n",
       "      <td>5.0</td>\n",
       "      <td>1.0</td>\n",
       "      <td>1.0</td>\n",
       "      <td>1.0</td>\n",
       "      <td>2.0</td>\n",
       "      <td>1.0</td>\n",
       "      <td>3.0</td>\n",
       "      <td>1.0</td>\n",
       "      <td>1.0</td>\n",
       "      <td>B</td>\n",
       "    </tr>\n",
       "    <tr>\n",
       "      <th>1</th>\n",
       "      <td>5.0</td>\n",
       "      <td>4.0</td>\n",
       "      <td>4.0</td>\n",
       "      <td>5.0</td>\n",
       "      <td>7.0</td>\n",
       "      <td>10.0</td>\n",
       "      <td>3.0</td>\n",
       "      <td>2.0</td>\n",
       "      <td>1.0</td>\n",
       "      <td>B</td>\n",
       "    </tr>\n",
       "    <tr>\n",
       "      <th>2</th>\n",
       "      <td>3.0</td>\n",
       "      <td>1.0</td>\n",
       "      <td>1.0</td>\n",
       "      <td>1.0</td>\n",
       "      <td>2.0</td>\n",
       "      <td>2.0</td>\n",
       "      <td>3.0</td>\n",
       "      <td>1.0</td>\n",
       "      <td>1.0</td>\n",
       "      <td>B</td>\n",
       "    </tr>\n",
       "    <tr>\n",
       "      <th>3</th>\n",
       "      <td>6.0</td>\n",
       "      <td>8.0</td>\n",
       "      <td>8.0</td>\n",
       "      <td>1.0</td>\n",
       "      <td>3.0</td>\n",
       "      <td>4.0</td>\n",
       "      <td>3.0</td>\n",
       "      <td>7.0</td>\n",
       "      <td>1.0</td>\n",
       "      <td>B</td>\n",
       "    </tr>\n",
       "    <tr>\n",
       "      <th>4</th>\n",
       "      <td>4.0</td>\n",
       "      <td>1.0</td>\n",
       "      <td>1.0</td>\n",
       "      <td>3.0</td>\n",
       "      <td>2.0</td>\n",
       "      <td>1.0</td>\n",
       "      <td>3.0</td>\n",
       "      <td>1.0</td>\n",
       "      <td>1.0</td>\n",
       "      <td>B</td>\n",
       "    </tr>\n",
       "  </tbody>\n",
       "</table>\n",
       "</div>"
      ],
      "text/plain": [
       "   Clump Thickness  Uniformity of Cell Size  Uniformity of Cell Shape  \\\n",
       "0              5.0                      1.0                       1.0   \n",
       "1              5.0                      4.0                       4.0   \n",
       "2              3.0                      1.0                       1.0   \n",
       "3              6.0                      8.0                       8.0   \n",
       "4              4.0                      1.0                       1.0   \n",
       "\n",
       "   Marginal Adhesion  Single Epithelial Cell Size  Bare Nuclei  \\\n",
       "0                1.0                          2.0          1.0   \n",
       "1                5.0                          7.0         10.0   \n",
       "2                1.0                          2.0          2.0   \n",
       "3                1.0                          3.0          4.0   \n",
       "4                3.0                          2.0          1.0   \n",
       "\n",
       "   Bland Chromatin  Normal Nucleoli  Mitoses Class  \n",
       "0              3.0              1.0      1.0     B  \n",
       "1              3.0              2.0      1.0     B  \n",
       "2              3.0              1.0      1.0     B  \n",
       "3              3.0              7.0      1.0     B  \n",
       "4              3.0              1.0      1.0     B  "
      ]
     },
     "execution_count": 423,
     "metadata": {},
     "output_type": "execute_result"
    }
   ],
   "source": [
    "#drop sample code column\n",
    "del df[\"Sample code number\"]\n",
    "#del df[\"Uniformity of Cell Size\"]\n",
    "#del df[\"Uniformity of Cell Shape\"]\n",
    "#del df[\"Single Epithelial Cell Size\"]\n",
    "#del df[\"Bland Chromatin\"]\n",
    "df.head()\n"
   ]
  },
  {
   "cell_type": "code",
   "execution_count": 424,
   "metadata": {},
   "outputs": [],
   "source": [
    "#Lets seprate labels and features\n",
    "x=df.drop(columns=['Class'])\n",
    "y=df['Class']"
   ]
  },
  {
   "cell_type": "code",
   "execution_count": 425,
   "metadata": {},
   "outputs": [
    {
     "data": {
      "text/plain": [
       "array([0, 0, 0, 0, 0, 1, 0, 0, 0, 0, 0, 0, 1, 0, 1, 1, 0, 0, 1, 0])"
      ]
     },
     "execution_count": 425,
     "metadata": {},
     "output_type": "execute_result"
    }
   ],
   "source": [
    "from sklearn.preprocessing import LabelEncoder\n",
    "#Convert string labels to unique int number\n",
    "lbl=LabelEncoder()\n",
    "y=lbl.fit_transform(y)\n",
    "y[:20]\n",
    "#Here we can see M convert 1 and B convert to 0"
   ]
  },
  {
   "cell_type": "code",
   "execution_count": 426,
   "metadata": {},
   "outputs": [
    {
     "data": {
      "text/plain": [
       "((540, 9), (135, 9), (540,), (135,))"
      ]
     },
     "execution_count": 426,
     "metadata": {},
     "output_type": "execute_result"
    }
   ],
   "source": [
    "from imblearn.over_sampling import SMOTE, ADASYN\n",
    "\n",
    "#Spilt the train and test data\n",
    "\n",
    "from sklearn.model_selection import train_test_split\n",
    "\n",
    "#using 20% of dataframe as test data\n",
    "x_train,x_test,y_train,y_test=train_test_split(x, y, test_size=0.2, random_state=5, stratify = y)\n",
    "\n",
    "#check the size before beginning\n",
    "x_train.shape,x_test.shape,y_train.shape,y_test.shape"
   ]
  },
  {
   "cell_type": "code",
   "execution_count": 427,
   "metadata": {},
   "outputs": [
    {
     "data": {
      "text/plain": [
       "((702, 9), (135, 9), (702,), (135,))"
      ]
     },
     "execution_count": 427,
     "metadata": {},
     "output_type": "execute_result"
    }
   ],
   "source": [
    "sm = SMOTE(sampling_strategy='auto', k_neighbors=5, random_state=5)\n",
    "x_train, y_train = sm.fit_resample(x_train, y_train)\n",
    "\n",
    "x_train.shape,x_test.shape,y_train.shape,y_test.shape"
   ]
  },
  {
   "cell_type": "code",
   "execution_count": 428,
   "metadata": {},
   "outputs": [
    {
     "name": "stdout",
     "output_type": "stream",
     "text": [
      "Gaussian Naive Bayes Results!\n",
      "\n",
      "Training accuracy:  0.9544159544159544\n",
      "\n",
      "Test Accuracy: 0.9777777777777777\n",
      "\n",
      "ROC_AUC Score: 0.9779980657640233\n",
      "\n",
      "Confusion matrix:\n",
      " [[86  2]\n",
      " [ 1 46]] \n",
      "\n",
      "True Positive (Correctly predicting malignant):  46\n",
      "True Negative (Correctly prediciting benign):  86\n",
      "False Positive (Wrongly predicitng malignant, when actually benign):  2\n",
      "False Negative (Wrongly predicting benign, when actually malignant):  1\n",
      "\n",
      "Classification Report:\n",
      "              precision    recall  f1-score   support\n",
      "\n",
      "           0       0.99      0.98      0.98        88\n",
      "           1       0.96      0.98      0.97        47\n",
      "\n",
      "    accuracy                           0.98       135\n",
      "   macro avg       0.97      0.98      0.98       135\n",
      "weighted avg       0.98      0.98      0.98       135\n",
      "\n"
     ]
    }
   ],
   "source": [
    "from sklearn.metrics import confusion_matrix\n",
    "from sklearn.metrics import roc_auc_score,accuracy_score\n",
    "from sklearn.metrics import classification_report\n",
    "from sklearn.naive_bayes import GaussianNB\n",
    "\n",
    "print(\"Gaussian Naive Bayes Results!\\n\")\n",
    "#Naivye Bayes\n",
    "nb=GaussianNB()\n",
    "nb.fit(x_train,y_train)\n",
    "print(\"Training accuracy: \", nb.score(x_train, y_train))\n",
    "y_pred=nb.predict(x_test)\n",
    "\n",
    "ac=accuracy_score(y_test,y_pred)\n",
    "print(\"\\nTest Accuracy:\", ac)\n",
    "\n",
    "rc=roc_auc_score(y_test,y_pred)\n",
    "print(\"\\nROC_AUC Score:\", rc)\n",
    "\n",
    "#cross validation\n",
    "#result=cross_validate(nb,x_train,y_train,scoring=scoring,cv=10)\n",
    "#print(\"\\nCross Validate function:\")\n",
    "#display_result(result)\n",
    "\n",
    "cm = confusion_matrix(y_test, y_pred)\n",
    "tn, fp, fn, tp = confusion_matrix(y_test, y_pred).ravel()\n",
    "\n",
    "print(\"\\nConfusion matrix:\\n\", cm,\"\\n\")\n",
    "print(\"True Positive (Correctly predicting malignant): \", tp)\n",
    "print(\"True Negative (Correctly prediciting benign): \", tn)\n",
    "print(\"False Positive (Wrongly predicitng malignant, when actually benign): \", fp)\n",
    "print(\"False Negative (Wrongly predicting benign, when actually malignant): \", fn)\n",
    "\n",
    "print(\"\\nClassification Report:\")\n",
    "#Check precision, recall, f1-score\n",
    "print(classification_report(y_test, y_pred))\n",
    "#Another way to get the models accuracy on the test data\n",
    "#print(accuracy_score(y_test, y_pred))"
   ]
  },
  {
   "cell_type": "code",
   "execution_count": 429,
   "metadata": {},
   "outputs": [
    {
     "data": {
      "image/png": "[encoded data removed]",
      "text/plain": [
       "<Figure size 432x288 with 2 Axes>"
      ]
     },
     "metadata": {},
     "output_type": "display_data"
    }
   ],
   "source": [
    "plt.style.use('dark_background')\n",
    "\n",
    "cm = np.array(confusion_matrix(y_test,y_pred,labels=[1,0]))\n",
    "confusion = pd.DataFrame(cm,index=['is_malignant','is_benign'], columns=['predicted_malignant','predicted_benign'])\n",
    "fig = sns.heatmap(confusion,annot=True)\n",
    "fig.FontColor = 'white'\n",
    "figure = fig.get_figure()\n"
   ]
  },
  {
   "cell_type": "markdown",
   "metadata": {},
   "source": [
    "\n",
    "\n"
   ]
  }
 ],
 "metadata": {
  "kernelspec": {
   "display_name": "Python 3",
   "language": "python",
   "name": "python3"
  },
  "language_info": {
   "codemirror_mode": {
    "name": "ipython",
    "version": 3
   },
   "file_extension": ".py",
   "mimetype": "text/x-python",
   "name": "python",
   "nbconvert_exporter": "python",
   "pygments_lexer": "ipython3",
   "version": "3.8.5"
  }
 },
 "nbformat": 4,
 "nbformat_minor": 4
}
